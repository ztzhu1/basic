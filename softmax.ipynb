{
 "cells": [
  {
   "cell_type": "code",
   "execution_count": 180,
   "metadata": {},
   "outputs": [],
   "source": [
    "import numpy as np\n",
    "import tensorflow as tf\n",
    "from sklearn.datasets import load_iris\n",
    "from sklearn.preprocessing import OneHotEncoder\n",
    "from sklearn.model_selection import train_test_split\n",
    "from sklearn.metrics import accuracy_score"
   ]
  },
  {
   "cell_type": "code",
   "execution_count": 181,
   "metadata": {},
   "outputs": [],
   "source": [
    "data = load_iris()"
   ]
  },
  {
   "cell_type": "code",
   "execution_count": 182,
   "metadata": {},
   "outputs": [
    {
     "name": "stdout",
     "output_type": "stream",
     "text": [
      "(120, 4)\n",
      "(30, 4)\n",
      "(120, 3)\n",
      "(30, 3)\n"
     ]
    }
   ],
   "source": [
    "X = data.data\n",
    "y = data.target\n",
    "X_train, X_test, Y_train, Y_test = train_test_split(X, y, test_size=0.2, random_state=1)\n",
    "Y_train_encoded = OneHotEncoder().fit_transform(Y_train.reshape(-1, 1)).toarray()\n",
    "Y_test_encoded = OneHotEncoder().fit_transform(Y_test.reshape(-1, 1)).toarray()\n",
    "\n",
    "\n",
    "n0, m_total = X.shape\n",
    "print(X_train.shape)\n",
    "print(X_test.shape)\n",
    "print(Y_train_encoded.shape)\n",
    "print(Y_test_encoded.shape)"
   ]
  },
  {
   "cell_type": "code",
   "execution_count": 183,
   "metadata": {},
   "outputs": [
    {
     "name": "stdout",
     "output_type": "stream",
     "text": [
      "Model: \"sequential_22\"\n",
      "_________________________________________________________________\n",
      " Layer (type)                Output Shape              Param #   \n",
      "=================================================================\n",
      " dense_43 (Dense)            (None, 10)                50        \n",
      "                                                                 \n",
      " dense_44 (Dense)            (None, 3)                 33        \n",
      "                                                                 \n",
      "=================================================================\n",
      "Total params: 83\n",
      "Trainable params: 83\n",
      "Non-trainable params: 0\n",
      "_________________________________________________________________\n"
     ]
    }
   ],
   "source": [
    "model = tf.keras.Sequential()\n",
    "model.add(tf.keras.layers.Dense(10, input_dim=X_train.shape[1], activation='relu'))\n",
    "model.add(tf.keras.layers.Dense(Y_train_encoded.shape[1], activation='softmax'))\n",
    "model.summary()"
   ]
  },
  {
   "cell_type": "code",
   "execution_count": 184,
   "metadata": {},
   "outputs": [
    {
     "name": "stdout",
     "output_type": "stream",
     "text": [
      "Epoch 1/100\n",
      "4/4 [==============================] - 0s 39ms/step - loss: 1.3482 - val_loss: 1.2239\n",
      "Epoch 2/100\n",
      "4/4 [==============================] - 0s 8ms/step - loss: 1.2281 - val_loss: 1.1856\n",
      "Epoch 3/100\n",
      "4/4 [==============================] - 0s 9ms/step - loss: 1.1510 - val_loss: 1.1537\n",
      "Epoch 4/100\n",
      "4/4 [==============================] - 0s 9ms/step - loss: 1.0905 - val_loss: 1.0944\n",
      "Epoch 5/100\n",
      "4/4 [==============================] - 0s 10ms/step - loss: 1.0431 - val_loss: 1.0401\n",
      "Epoch 6/100\n",
      "4/4 [==============================] - 0s 10ms/step - loss: 0.9962 - val_loss: 0.9856\n",
      "Epoch 7/100\n",
      "4/4 [==============================] - 0s 11ms/step - loss: 0.9553 - val_loss: 0.9435\n",
      "Epoch 8/100\n",
      "4/4 [==============================] - 0s 11ms/step - loss: 0.9144 - val_loss: 0.9041\n",
      "Epoch 9/100\n",
      "4/4 [==============================] - 0s 9ms/step - loss: 0.8775 - val_loss: 0.8683\n",
      "Epoch 10/100\n",
      "4/4 [==============================] - 0s 11ms/step - loss: 0.8422 - val_loss: 0.8277\n",
      "Epoch 11/100\n",
      "4/4 [==============================] - 0s 10ms/step - loss: 0.8099 - val_loss: 0.7980\n",
      "Epoch 12/100\n",
      "4/4 [==============================] - 0s 9ms/step - loss: 0.7810 - val_loss: 0.7719\n",
      "Epoch 13/100\n",
      "4/4 [==============================] - 0s 9ms/step - loss: 0.7550 - val_loss: 0.7459\n",
      "Epoch 14/100\n",
      "4/4 [==============================] - 0s 9ms/step - loss: 0.7311 - val_loss: 0.7148\n",
      "Epoch 15/100\n",
      "4/4 [==============================] - 0s 9ms/step - loss: 0.7090 - val_loss: 0.6959\n",
      "Epoch 16/100\n",
      "4/4 [==============================] - 0s 9ms/step - loss: 0.6888 - val_loss: 0.6823\n",
      "Epoch 17/100\n",
      "4/4 [==============================] - 0s 9ms/step - loss: 0.6708 - val_loss: 0.6676\n",
      "Epoch 18/100\n",
      "4/4 [==============================] - 0s 9ms/step - loss: 0.6533 - val_loss: 0.6519\n",
      "Epoch 19/100\n",
      "4/4 [==============================] - 0s 9ms/step - loss: 0.6392 - val_loss: 0.6339\n",
      "Epoch 20/100\n",
      "4/4 [==============================] - 0s 8ms/step - loss: 0.6239 - val_loss: 0.6226\n",
      "Epoch 21/100\n",
      "4/4 [==============================] - 0s 9ms/step - loss: 0.6123 - val_loss: 0.6183\n",
      "Epoch 22/100\n",
      "4/4 [==============================] - 0s 8ms/step - loss: 0.5980 - val_loss: 0.5982\n",
      "Epoch 23/100\n",
      "4/4 [==============================] - 0s 9ms/step - loss: 0.5866 - val_loss: 0.5803\n",
      "Epoch 24/100\n",
      "4/4 [==============================] - 0s 9ms/step - loss: 0.5762 - val_loss: 0.5797\n",
      "Epoch 25/100\n",
      "4/4 [==============================] - 0s 8ms/step - loss: 0.5637 - val_loss: 0.5696\n",
      "Epoch 26/100\n",
      "4/4 [==============================] - 0s 8ms/step - loss: 0.5536 - val_loss: 0.5607\n",
      "Epoch 27/100\n",
      "4/4 [==============================] - 0s 9ms/step - loss: 0.5438 - val_loss: 0.5553\n",
      "Epoch 28/100\n",
      "4/4 [==============================] - 0s 8ms/step - loss: 0.5341 - val_loss: 0.5433\n",
      "Epoch 29/100\n",
      "4/4 [==============================] - 0s 8ms/step - loss: 0.5246 - val_loss: 0.5336\n",
      "Epoch 30/100\n",
      "4/4 [==============================] - 0s 9ms/step - loss: 0.5167 - val_loss: 0.5258\n",
      "Epoch 31/100\n",
      "4/4 [==============================] - 0s 9ms/step - loss: 0.5073 - val_loss: 0.5167\n",
      "Epoch 32/100\n",
      "4/4 [==============================] - 0s 10ms/step - loss: 0.4992 - val_loss: 0.5090\n",
      "Epoch 33/100\n",
      "4/4 [==============================] - 0s 9ms/step - loss: 0.4920 - val_loss: 0.5081\n",
      "Epoch 34/100\n",
      "4/4 [==============================] - 0s 9ms/step - loss: 0.4845 - val_loss: 0.5056\n",
      "Epoch 35/100\n",
      "4/4 [==============================] - 0s 9ms/step - loss: 0.4752 - val_loss: 0.4899\n",
      "Epoch 36/100\n",
      "4/4 [==============================] - 0s 9ms/step - loss: 0.4680 - val_loss: 0.4811\n",
      "Epoch 37/100\n",
      "4/4 [==============================] - 0s 9ms/step - loss: 0.4613 - val_loss: 0.4703\n",
      "Epoch 38/100\n",
      "4/4 [==============================] - 0s 8ms/step - loss: 0.4541 - val_loss: 0.4622\n",
      "Epoch 39/100\n",
      "4/4 [==============================] - 0s 9ms/step - loss: 0.4464 - val_loss: 0.4643\n",
      "Epoch 40/100\n",
      "4/4 [==============================] - 0s 9ms/step - loss: 0.4416 - val_loss: 0.4730\n",
      "Epoch 41/100\n",
      "4/4 [==============================] - 0s 8ms/step - loss: 0.4348 - val_loss: 0.4548\n",
      "Epoch 42/100\n",
      "4/4 [==============================] - 0s 9ms/step - loss: 0.4262 - val_loss: 0.4458\n",
      "Epoch 43/100\n",
      "4/4 [==============================] - 0s 8ms/step - loss: 0.4228 - val_loss: 0.4358\n",
      "Epoch 44/100\n",
      "4/4 [==============================] - 0s 9ms/step - loss: 0.4135 - val_loss: 0.4452\n",
      "Epoch 45/100\n",
      "4/4 [==============================] - 0s 9ms/step - loss: 0.4080 - val_loss: 0.4392\n",
      "Epoch 46/100\n",
      "4/4 [==============================] - 0s 8ms/step - loss: 0.4015 - val_loss: 0.4385\n",
      "Epoch 47/100\n",
      "4/4 [==============================] - 0s 9ms/step - loss: 0.3968 - val_loss: 0.4201\n",
      "Epoch 48/100\n",
      "4/4 [==============================] - 0s 9ms/step - loss: 0.3893 - val_loss: 0.4132\n",
      "Epoch 49/100\n",
      "4/4 [==============================] - 0s 9ms/step - loss: 0.3831 - val_loss: 0.4145\n",
      "Epoch 50/100\n",
      "4/4 [==============================] - 0s 9ms/step - loss: 0.3790 - val_loss: 0.4184\n",
      "Epoch 51/100\n",
      "4/4 [==============================] - 0s 9ms/step - loss: 0.3727 - val_loss: 0.4115\n",
      "Epoch 52/100\n",
      "4/4 [==============================] - 0s 9ms/step - loss: 0.3666 - val_loss: 0.3906\n",
      "Epoch 53/100\n",
      "4/4 [==============================] - 0s 9ms/step - loss: 0.3622 - val_loss: 0.3779\n",
      "Epoch 54/100\n",
      "4/4 [==============================] - 0s 9ms/step - loss: 0.3554 - val_loss: 0.3835\n",
      "Epoch 55/100\n",
      "4/4 [==============================] - 0s 9ms/step - loss: 0.3519 - val_loss: 0.3968\n",
      "Epoch 56/100\n",
      "4/4 [==============================] - 0s 10ms/step - loss: 0.3453 - val_loss: 0.3890\n",
      "Epoch 57/100\n",
      "4/4 [==============================] - 0s 9ms/step - loss: 0.3388 - val_loss: 0.3686\n",
      "Epoch 58/100\n",
      "4/4 [==============================] - 0s 9ms/step - loss: 0.3339 - val_loss: 0.3588\n",
      "Epoch 59/100\n",
      "4/4 [==============================] - 0s 9ms/step - loss: 0.3292 - val_loss: 0.3616\n",
      "Epoch 60/100\n",
      "4/4 [==============================] - 0s 10ms/step - loss: 0.3233 - val_loss: 0.3613\n",
      "Epoch 61/100\n",
      "4/4 [==============================] - 0s 9ms/step - loss: 0.3184 - val_loss: 0.3596\n",
      "Epoch 62/100\n",
      "4/4 [==============================] - 0s 10ms/step - loss: 0.3130 - val_loss: 0.3520\n",
      "Epoch 63/100\n",
      "4/4 [==============================] - 0s 9ms/step - loss: 0.3079 - val_loss: 0.3434\n",
      "Epoch 64/100\n",
      "4/4 [==============================] - 0s 10ms/step - loss: 0.3042 - val_loss: 0.3307\n",
      "Epoch 65/100\n",
      "4/4 [==============================] - 0s 8ms/step - loss: 0.2996 - val_loss: 0.3310\n",
      "Epoch 66/100\n",
      "4/4 [==============================] - 0s 9ms/step - loss: 0.2938 - val_loss: 0.3385\n",
      "Epoch 67/100\n",
      "4/4 [==============================] - 0s 8ms/step - loss: 0.2889 - val_loss: 0.3361\n",
      "Epoch 68/100\n",
      "4/4 [==============================] - 0s 10ms/step - loss: 0.2845 - val_loss: 0.3311\n",
      "Epoch 69/100\n",
      "4/4 [==============================] - 0s 9ms/step - loss: 0.2803 - val_loss: 0.3218\n",
      "Epoch 70/100\n",
      "4/4 [==============================] - 0s 10ms/step - loss: 0.2763 - val_loss: 0.3210\n",
      "Epoch 71/100\n",
      "4/4 [==============================] - 0s 10ms/step - loss: 0.2717 - val_loss: 0.3121\n",
      "Epoch 72/100\n",
      "4/4 [==============================] - 0s 10ms/step - loss: 0.2670 - val_loss: 0.3078\n",
      "Epoch 73/100\n",
      "4/4 [==============================] - 0s 10ms/step - loss: 0.2650 - val_loss: 0.3036\n",
      "Epoch 74/100\n",
      "4/4 [==============================] - 0s 10ms/step - loss: 0.2627 - val_loss: 0.3211\n",
      "Epoch 75/100\n",
      "4/4 [==============================] - 0s 8ms/step - loss: 0.2558 - val_loss: 0.3060\n",
      "Epoch 76/100\n",
      "4/4 [==============================] - 0s 8ms/step - loss: 0.2520 - val_loss: 0.2889\n",
      "Epoch 77/100\n",
      "4/4 [==============================] - 0s 8ms/step - loss: 0.2476 - val_loss: 0.2886\n",
      "Epoch 78/100\n",
      "4/4 [==============================] - 0s 8ms/step - loss: 0.2435 - val_loss: 0.2869\n",
      "Epoch 79/100\n",
      "4/4 [==============================] - 0s 10ms/step - loss: 0.2390 - val_loss: 0.2887\n",
      "Epoch 80/100\n",
      "4/4 [==============================] - 0s 8ms/step - loss: 0.2365 - val_loss: 0.2947\n",
      "Epoch 81/100\n",
      "4/4 [==============================] - 0s 9ms/step - loss: 0.2331 - val_loss: 0.2816\n",
      "Epoch 82/100\n",
      "4/4 [==============================] - 0s 8ms/step - loss: 0.2286 - val_loss: 0.2729\n",
      "Epoch 83/100\n",
      "4/4 [==============================] - 0s 9ms/step - loss: 0.2258 - val_loss: 0.2672\n",
      "Epoch 84/100\n",
      "4/4 [==============================] - 0s 8ms/step - loss: 0.2232 - val_loss: 0.2714\n",
      "Epoch 85/100\n",
      "4/4 [==============================] - 0s 8ms/step - loss: 0.2193 - val_loss: 0.2671\n",
      "Epoch 86/100\n",
      "4/4 [==============================] - 0s 8ms/step - loss: 0.2161 - val_loss: 0.2603\n",
      "Epoch 87/100\n",
      "4/4 [==============================] - 0s 8ms/step - loss: 0.2139 - val_loss: 0.2596\n",
      "Epoch 88/100\n",
      "4/4 [==============================] - 0s 8ms/step - loss: 0.2109 - val_loss: 0.2630\n",
      "Epoch 89/100\n",
      "4/4 [==============================] - 0s 9ms/step - loss: 0.2077 - val_loss: 0.2557\n",
      "Epoch 90/100\n",
      "4/4 [==============================] - 0s 8ms/step - loss: 0.2056 - val_loss: 0.2487\n",
      "Epoch 91/100\n",
      "4/4 [==============================] - 0s 9ms/step - loss: 0.2019 - val_loss: 0.2523\n",
      "Epoch 92/100\n",
      "4/4 [==============================] - 0s 9ms/step - loss: 0.1993 - val_loss: 0.2492\n",
      "Epoch 93/100\n",
      "4/4 [==============================] - 0s 9ms/step - loss: 0.1965 - val_loss: 0.2484\n",
      "Epoch 94/100\n",
      "4/4 [==============================] - 0s 8ms/step - loss: 0.1943 - val_loss: 0.2413\n",
      "Epoch 95/100\n",
      "4/4 [==============================] - 0s 9ms/step - loss: 0.1914 - val_loss: 0.2382\n",
      "Epoch 96/100\n",
      "4/4 [==============================] - 0s 10ms/step - loss: 0.1896 - val_loss: 0.2405\n",
      "Epoch 97/100\n",
      "4/4 [==============================] - 0s 10ms/step - loss: 0.1904 - val_loss: 0.2269\n",
      "Epoch 98/100\n",
      "4/4 [==============================] - 0s 9ms/step - loss: 0.1845 - val_loss: 0.2343\n",
      "Epoch 99/100\n",
      "4/4 [==============================] - 0s 9ms/step - loss: 0.1841 - val_loss: 0.2400\n",
      "Epoch 100/100\n",
      "4/4 [==============================] - 0s 8ms/step - loss: 0.1804 - val_loss: 0.2257\n"
     ]
    }
   ],
   "source": [
    "model.compile(optimizer=tf.keras.optimizers.Adam(learning_rate=0.003), loss='categorical_crossentropy')\n",
    "history = model.fit(X_train, Y_train_encoded, epochs=100, validation_data=(X_test, Y_test_encoded))"
   ]
  },
  {
   "cell_type": "code",
   "execution_count": 185,
   "metadata": {},
   "outputs": [
    {
     "name": "stdout",
     "output_type": "stream",
     "text": [
      "4/4 [==============================] - 0s 2ms/step\n",
      "train accuracy: 0.975\n",
      "1/1 [==============================] - 0s 17ms/step\n",
      "test accuracy: 0.9666666666666667\n"
     ]
    }
   ],
   "source": [
    "y_pred = np.argmax(model.predict(X_train), axis=1)\n",
    "print('train accuracy:', accuracy_score(Y_train, y_pred))\n",
    "y_pred = np.argmax(model.predict(X_test), axis=1)\n",
    "print('test accuracy:', accuracy_score(Y_test, y_pred))"
   ]
  },
  {
   "cell_type": "markdown",
   "metadata": {},
   "source": [
    "For comparison, use logistic regression provided by sklearn to predict result."
   ]
  },
  {
   "cell_type": "code",
   "execution_count": 186,
   "metadata": {},
   "outputs": [
    {
     "data": {
      "text/plain": [
       "LogisticRegression()"
      ]
     },
     "execution_count": 186,
     "metadata": {},
     "output_type": "execute_result"
    }
   ],
   "source": [
    "from sklearn.linear_model import LogisticRegression\n",
    "clf = LogisticRegression()\n",
    "X = data.data\n",
    "y = data.target\n",
    "X_train, X_test, Y_train, Y_test = train_test_split(X, y, test_size=0.2, random_state=1)\n",
    "clf.fit(X_train, Y_train.flatten())"
   ]
  },
  {
   "cell_type": "code",
   "execution_count": 187,
   "metadata": {},
   "outputs": [
    {
     "name": "stdout",
     "output_type": "stream",
     "text": [
      "train accuracy: 0.9833333333333333\n",
      "test accuracy: 0.9666666666666667\n"
     ]
    }
   ],
   "source": [
    "y_pred = clf.predict(X_train)\n",
    "print('train accuracy:', accuracy_score(Y_train, y_pred))\n",
    "y_pred = clf.predict(X_test)\n",
    "print('test accuracy:', accuracy_score(Y_test, y_pred))"
   ]
  }
 ],
 "metadata": {
  "kernelspec": {
   "display_name": "Python 3.8.8 ('base')",
   "language": "python",
   "name": "python3"
  },
  "language_info": {
   "codemirror_mode": {
    "name": "ipython",
    "version": 3
   },
   "file_extension": ".py",
   "mimetype": "text/x-python",
   "name": "python",
   "nbconvert_exporter": "python",
   "pygments_lexer": "ipython3",
   "version": "3.8.8"
  },
  "orig_nbformat": 4,
  "vscode": {
   "interpreter": {
    "hash": "9f477485d285a5f10682b4eba39a7346cdf553c3edeb76419d766de0b2758d1b"
   }
  }
 },
 "nbformat": 4,
 "nbformat_minor": 2
}
