{
 "cells": [
  {
   "cell_type": "code",
   "execution_count": 818,
   "metadata": {},
   "outputs": [],
   "source": [
    "import numpy as np\n",
    "from sklearn.datasets import load_breast_cancer\n",
    "from sklearn.model_selection import train_test_split\n",
    "from sklearn.metrics import log_loss, accuracy_score"
   ]
  },
  {
   "cell_type": "code",
   "execution_count": 819,
   "metadata": {},
   "outputs": [],
   "source": [
    "data = load_breast_cancer()"
   ]
  },
  {
   "cell_type": "code",
   "execution_count": 820,
   "metadata": {},
   "outputs": [
    {
     "name": "stdout",
     "output_type": "stream",
     "text": [
      "(30, 455)\n",
      "(30, 114)\n",
      "(1, 455)\n",
      "(1, 114)\n"
     ]
    }
   ],
   "source": [
    "X = data.data\n",
    "y = data.target\n",
    "X_train, X_test, y_train, y_test = train_test_split(X, y, test_size=0.2, random_state=1)\n",
    "X, X_train, X_test, y, y_train, y_test = X.T, X_train.T, X_test.T, y.reshape(1, -1), y_train.reshape(1, -1), y_test.reshape(1, -1)\n",
    "print(X_train.shape)\n",
    "print(X_test.shape)\n",
    "print(y_train.shape)\n",
    "print(y_test.shape)"
   ]
  },
  {
   "cell_type": "code",
   "execution_count": 821,
   "metadata": {},
   "outputs": [],
   "source": [
    "feature_num, m_total = X.shape\n",
    "w = np.zeros((feature_num, 1))\n",
    "b = 0."
   ]
  },
  {
   "cell_type": "code",
   "execution_count": 822,
   "metadata": {},
   "outputs": [],
   "source": [
    "def sigmoid(z):\n",
    "    return 1. / (1. + np.exp(-z))\n",
    "\n",
    "def calc_z(w, b, X):\n",
    "    return w.T @ X + b\n",
    "\n",
    "def loss(w, b, X, y_true, eps=1.e-15):\n",
    "    z = calc_z(w, b, X)\n",
    "    a = sigmoid(z)\n",
    "    l = - np.mean((y_true * np.log(a + eps) + (1 - y_true) * np.log(1 - a + eps)))\n",
    "    return l\n",
    "\n",
    "def calc_loss_der(w, b, X, y):\n",
    "    _, m = X.shape\n",
    "    z = calc_z(w, b, X)\n",
    "    a = sigmoid(z)\n",
    "    dw = X @ (a - y).T / m\n",
    "    db = np.mean(a - y)\n",
    "    return dw, db\n",
    "\n",
    "def predict(w, b, X, threshold=0.5):\n",
    "    z = calc_z(w, b, X)\n",
    "    a = sigmoid(z)\n",
    "    return (a > threshold).astype(int)"
   ]
  },
  {
   "cell_type": "code",
   "execution_count": 823,
   "metadata": {},
   "outputs": [],
   "source": [
    "def regress(w, b, X_train, y_train, alpha=0.0001, epoch=10, verbose=True):\n",
    "    history = [loss(w, b, X_train, y_train)]\n",
    "    for i in range(epoch):\n",
    "        dw, db = calc_loss_der(w, b, X_train, y_train)\n",
    "        w -= alpha * dw\n",
    "        b -= alpha * db\n",
    "        history.append(loss(w, b, X_train, y_train))\n",
    "        if verbose:\n",
    "            print(history[-1])\n",
    "    return w, b, history\n"
   ]
  },
  {
   "cell_type": "code",
   "execution_count": 824,
   "metadata": {},
   "outputs": [],
   "source": [
    "def score(w, b, X_train, X_test, y_train, y_test):\n",
    "    y_pred = predict(w, b, X_train)\n",
    "    print('train accuracy:', accuracy_score(y_train.flatten(), y_pred.flatten()))\n",
    "    y_pred = predict(w, b, X_test)\n",
    "    print('test accuracy:', accuracy_score(y_test.flatten(), y_pred.flatten()))"
   ]
  },
  {
   "cell_type": "code",
   "execution_count": 825,
   "metadata": {},
   "outputs": [
    {
     "name": "stdout",
     "output_type": "stream",
     "text": [
      "train accuracy: 0.9032967032967033\n",
      "test accuracy: 0.9122807017543859\n"
     ]
    }
   ],
   "source": [
    "w, b, history = regress(w, b, X_train, y_train, alpha=0.000003, epoch=100, verbose=False)\n",
    "score(w, b ,X_train, X_test, y_train, y_test)"
   ]
  },
  {
   "cell_type": "markdown",
   "metadata": {},
   "source": [
    "For comparison, use logistic regression provided by sklearn to predict result."
   ]
  },
  {
   "cell_type": "code",
   "execution_count": 830,
   "metadata": {},
   "outputs": [
    {
     "data": {
      "text/plain": [
       "LogisticRegression()"
      ]
     },
     "execution_count": 830,
     "metadata": {},
     "output_type": "execute_result"
    }
   ],
   "source": [
    "from sklearn.linear_model import LogisticRegression\n",
    "clf = LogisticRegression()\n",
    "X = data.data\n",
    "y = data.target\n",
    "X_train, X_test, y_train, y_test = train_test_split(X, y, test_size=0.2, random_state=1)\n",
    "clf.fit(X_train, y_train)"
   ]
  },
  {
   "cell_type": "code",
   "execution_count": 831,
   "metadata": {},
   "outputs": [
    {
     "name": "stdout",
     "output_type": "stream",
     "text": [
      "train accuracy: 0.945054945054945\n",
      "test accuracy: 0.9473684210526315\n"
     ]
    }
   ],
   "source": [
    "y_pred = clf.predict(X_train)\n",
    "print('train accuracy:', accuracy_score(y_train, y_pred))\n",
    "y_pred = clf.predict(X_test)\n",
    "print('test accuracy:', accuracy_score(y_test, y_pred))"
   ]
  }
 ],
 "metadata": {
  "kernelspec": {
   "display_name": "Python 3.8.8 ('base')",
   "language": "python",
   "name": "python3"
  },
  "language_info": {
   "codemirror_mode": {
    "name": "ipython",
    "version": 3
   },
   "file_extension": ".py",
   "mimetype": "text/x-python",
   "name": "python",
   "nbconvert_exporter": "python",
   "pygments_lexer": "ipython3",
   "version": "3.8.8"
  },
  "orig_nbformat": 4,
  "vscode": {
   "interpreter": {
    "hash": "9f477485d285a5f10682b4eba39a7346cdf553c3edeb76419d766de0b2758d1b"
   }
  }
 },
 "nbformat": 4,
 "nbformat_minor": 2
}
